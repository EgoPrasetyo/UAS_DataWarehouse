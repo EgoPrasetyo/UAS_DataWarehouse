{
 "cells": [
  {
   "cell_type": "code",
   "execution_count": 1,
   "metadata": {},
   "outputs": [],
   "source": [
    "import numpy as np\n",
    "from scipy.ndimage import filters\n",
    "\n",
    "def apply_roberts(img):\n",
    "  img = img.copy()\n",
    "\n",
    "  # assemble the roberts kernel\n",
    "  dx = np.array([[1, 0], [0, -1]])\n",
    "  dy = np.array([[0, -1], [1, 0]])\n",
    "\n",
    "  # apply the x and y kernels\n",
    "  im_x = filters.convolve(img, dx, output=np.float64, mode='nearest')\n",
    "  im_y = filters.convolve(img, dy, output=np.float64, mode='nearest')\n",
    "\n",
    "  return im_x, im_y"
   ]
  },
  {
   "cell_type": "code",
   "execution_count": 2,
   "metadata": {},
   "outputs": [],
   "source": [
    "import os\n",
    "import cv2\n",
    "import numpy as np\n",
    "\n",
    "image = os.path.join(os.getcwd(), \"D:/DIMAS.jpg\")\n",
    "# image = os.path.join(os.getcwd(), \"D:FOTO/dimas.jpg\")\n",
    "cv_image = cv2.imread(image, cv2.IMREAD_GRAYSCALE)\n",
    "\n",
    "roberts_x, roberts_y = apply_roberts(cv_image)\n",
    "\n",
    "# copy the contents of the matrix before modifying it\n",
    "roberts_x_text = roberts_x.copy()\n",
    "roberts_y_text = roberts_y.copy()\n",
    "\n",
    "# add labels to the images\n",
    "cv2.putText(roberts_x_text, \"Roberts - X\", (20, 20), cv2.FONT_HERSHEY_SIMPLEX, 0.8, (200, 200, 200), 5)\n",
    "cv2.putText(roberts_x_text, \"Roberts - Y\", (20, 20), cv2.FONT_HERSHEY_SIMPLEX, 0.8, (200, 200, 200), 5)\n",
    "\n",
    "# show the x and y image side by side\n",
    "cv2.imshow('Roberts Operator Result', np.hstack([roberts_x_text, roberts_x_text]))\n",
    "\n",
    "# converting back to uint8\n",
    "abs_grad_x = cv2.convertScaleAbs(roberts_x.copy())\n",
    "abs_grad_y = cv2.convertScaleAbs(roberts_y.copy())\n",
    "\n",
    "# show the combined result\n",
    "dst = cv2.addWeighted(abs_grad_x, 0.5, abs_grad_y, 0.5, 0)\n",
    "cv2.imshow('Roberts Operator Combined Result', dst)\n",
    "\n",
    "cv2.waitKey(0)\n",
    "cv2.destroyAllWindows()"
   ]
  },
  {
   "cell_type": "code",
   "execution_count": null,
   "metadata": {},
   "outputs": [],
   "source": []
  },
  {
   "cell_type": "code",
   "execution_count": null,
   "metadata": {},
   "outputs": [],
   "source": []
  }
 ],
 "metadata": {
  "kernelspec": {
   "display_name": "Python 3",
   "language": "python",
   "name": "python3"
  },
  "language_info": {
   "codemirror_mode": {
    "name": "ipython",
    "version": 3
   },
   "file_extension": ".py",
   "mimetype": "text/x-python",
   "name": "python",
   "nbconvert_exporter": "python",
   "pygments_lexer": "ipython3",
   "version": "3.6.4"
  }
 },
 "nbformat": 4,
 "nbformat_minor": 2
}
