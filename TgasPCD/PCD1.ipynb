{
 "cells": [
  {
   "cell_type": "code",
   "execution_count": 2,
   "metadata": {},
   "outputs": [],
   "source": [
    "import cv2\n",
    "\n",
    "#load & resize image\n",
    "img = cv2.imread('kucing.jpg')\n",
    "img_resize = cv2.resize(img, (640, 480))  \n",
    "\n",
    "#apply canny edge detection \n",
    "#cv2.canny(<image>, threshold_min, threshold_max)\n",
    "edged = cv2.Canny(img_resize, 230, 250)\n",
    "\n",
    "#show image \n",
    "cv2.imshow(\"Original Image\",img_resize)\n",
    "cv2.imshow(\"Edged Image\", edged)\n",
    "\n",
    "cv2.waitKey(0)\n",
    "cv2.destroyAllWindows()"
   ]
  },
  {
   "cell_type": "code",
   "execution_count": null,
   "metadata": {},
   "outputs": [],
   "source": []
  },
  {
   "cell_type": "code",
   "execution_count": null,
   "metadata": {},
   "outputs": [],
   "source": []
  }
 ],
 "metadata": {
  "kernelspec": {
   "display_name": "Python 3",
   "language": "python",
   "name": "python3"
  },
  "language_info": {
   "codemirror_mode": {
    "name": "ipython",
    "version": 3
   },
   "file_extension": ".py",
   "mimetype": "text/x-python",
   "name": "python",
   "nbconvert_exporter": "python",
   "pygments_lexer": "ipython3",
   "version": "3.6.4"
  }
 },
 "nbformat": 4,
 "nbformat_minor": 2
}
